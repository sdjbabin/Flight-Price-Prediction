{
 "cells": [
  {
   "cell_type": "code",
   "execution_count": null,
   "metadata": {},
   "outputs": [],
   "source": [
    "import pandas as pd\n",
    "import numpy as np\n",
    "import matplotlib.pyplot as plt\n",
    "%matplotlib inline\n",
    "import plotly.express as px\n",
    "import seaborn as sns\n",
    "\n",
    "df=pd.read_csv(\"flight.csv\")\n",
    "df.head(3)\n"
   ]
  },
  {
   "cell_type": "markdown",
   "metadata": {},
   "source": [
    "\n",
    "The dataset comprises several key features, each serving a unique purpose:\n",
    "\n",
    "- Airline: Within the \"Airline\" column, we find the names of various airline companies. This is a categorical feature with six different airlines represented.\n",
    "\n",
    "- Flight: The \"Flight\" column contains information about the flight code, representing different flights. It's also a categorical feature.\n",
    "\n",
    "- Source City: \"Source City\" denotes the city from which the flight originates. This categorical feature encompasses six distinct cities.\n",
    "\n",
    "- Departure Time: This categorical feature is derived by categorizing departure times into different bins. It includes six unique time labels, providing insights into the timing of flights.\n",
    "\n",
    "- Stops: The \"Stops\" feature is categorical and offers information about the number of stops between the source and destination cities, with three possible values.\n",
    "\n",
    "- Arrival Time: Similar to \"Departure Time,\" this derived categorical feature categorizes arrival times into specific bins. It features six distinct time labels, offering details on arrival timings.\n",
    "\n",
    "- Destination City: This categorical feature indicates the city where the flight is scheduled to land. It comprises six unique city destinations.\n",
    "\n",
    "- Class: The \"Class\" feature is categorical and captures information about the seat class. It distinguishes between \"Business\" and \"Economy\" classes.\n",
    "\n",
    "- Duration: A continuous feature, \"Duration,\" quantifies the total travel time between cities in hours.\n",
    "\n",
    "- Days Left: Calculated as the difference between the trip date and the booking date, the \"Days Left\" feature is derived. It provides insights into the time gap between booking and travel.\n",
    "\n",
    "- Price: This is the target variable, representing the ticket price.\n",
    "\n",
    "These descriptions provide an overview of the dataset's features, each contributing distinct information relevant to flight data analysis."
   ]
  },
  {
   "cell_type": "markdown",
   "metadata": {},
   "source": [
    "#### Cleaning"
   ]
  },
  {
   "cell_type": "code",
   "execution_count": null,
   "metadata": {},
   "outputs": [],
   "source": [
    "#Cleaning un-necessary columns\n",
    "\n",
    "# We do not need the Unnamed column nor the flight number for our analysis thus we drop them\n",
    "\n",
    "df.drop([\"Unnamed: 0\",\"flight\"],axis=\"columns\",inplace=True)\n",
    "df.head(3)\n",
    "\n"
   ]
  },
  {
   "cell_type": "markdown",
   "metadata": {},
   "source": [
    "\n",
    "### Outlier detection and removal\n"
   ]
  },
  {
   "cell_type": "code",
   "execution_count": null,
   "metadata": {},
   "outputs": [],
   "source": [
    "def remove_outliers(df, s):\n",
    "    df_out = pd.DataFrame()\n",
    "    for key, subdf in df.groupby(s):\n",
    "        m = np.mean(subdf.price)\n",
    "        st = np.std(subdf.price)\n",
    "        reduced_df = subdf[(subdf.price > (m - st)) & (subdf.price <= (m + st))]\n",
    "        df_out = pd.concat([df_out, reduced_df], ignore_index=True)\n",
    "    return df_out\n",
    "\n",
    "df1 = remove_outliers(df, \"airline\")\n",
    "df2 = remove_outliers(df, \"class\")\n",
    "\n",
    "reduction = len(df) - len(df2)\n",
    "percentage_reduction = (reduction / len(df)) * 100\n",
    "\n",
    "print(f\"In the outlier detection and removal process, {reduction} data points were removed.\")\n",
    "print(f\"The length of the dataframe after outlier removal is: {len(df2)}\")\n",
    "print(f\"The percentage of data reduction is: {percentage_reduction:.2f}%\")\n"
   ]
  },
  {
   "cell_type": "code",
   "execution_count": null,
   "metadata": {},
   "outputs": [],
   "source": [
    "final=df2"
   ]
  },
  {
   "cell_type": "markdown",
   "metadata": {},
   "source": [
    "# EXPLORATORY DATA ANALYSIS"
   ]
  },
  {
   "cell_type": "code",
   "execution_count": null,
   "metadata": {},
   "outputs": [],
   "source": [
    "#the shape of the final dataframe we are going to work with\n",
    "print (\"the shape of the final dataframe we are going to work with is : \",final.shape)\n"
   ]
  },
  {
   "cell_type": "markdown",
   "metadata": {},
   "source": [
    "##### The data frame contains 10 attributes and 223076 rows in total and looks like:"
   ]
  },
  {
   "cell_type": "code",
   "execution_count": null,
   "metadata": {},
   "outputs": [],
   "source": [
    "final.head()"
   ]
  },
  {
   "cell_type": "markdown",
   "metadata": {},
   "source": [
    "Let us get a summary of the DataFrame, including the number of non-null values in each column.\n"
   ]
  },
  {
   "cell_type": "code",
   "execution_count": null,
   "metadata": {},
   "outputs": [],
   "source": [
    "final.info()"
   ]
  },
  {
   "cell_type": "markdown",
   "metadata": {},
   "source": [
    "###### As it is clearly noted, there are no null values in our dataset."
   ]
  },
  {
   "cell_type": "code",
   "execution_count": null,
   "metadata": {},
   "outputs": [],
   "source": [
    "# Let us count the number of unique values in each column \n",
    "final.nunique()"
   ]
  },
  {
   "cell_type": "markdown",
   "metadata": {},
   "source": [
    "## Our dataset contains 7 categorical variables\n",
    "\n",
    "| Categorical variable     | Classes                                    |\n",
    "|--------------------------|--------------------------------------------|\n",
    "| Airline                  | Air_India, Vistara, SpiceJet, AirAsia, GO_FIRST, Indigo |\n",
    "| Source City              | Delhi, Mumbai, Bangalore, Kolkata, Hyderabad, Chennai |\n",
    "| Departure Time           | Evening, Night, Morning, Early_Morning, Afternoon, Late_Night |\n",
    "| Stops                    | one, zero, two_or_more                      |\n",
    "| Arrival Time             | Night, Afternoon, Evening, Morning, Late_Night, Early_Morning |\n",
    "| Destination City         | Mumbai, Bangalore, Kolkata, Hyderabad, Chennai, Delhi |\n",
    "| Class                    | Business, Economy                           |\n"
   ]
  },
  {
   "cell_type": "code",
   "execution_count": null,
   "metadata": {},
   "outputs": [],
   "source": [
    "# The summary statistics of the numeric columns in the data\n",
    "final.describe()\n"
   ]
  },
  {
   "cell_type": "markdown",
   "metadata": {},
   "source": [
    "**Initial Observations :Duration :**\n",
    "\n",
    "- The dataset reveals an average (mean) flight duration of approximately 12.22 hours, reflecting the typical flight duration.\n",
    "\n",
    "- Among the flights, the shortest recorded duration is just 0.83 hours, signifying exceptionally brief journeys, possibly within the same region.\n",
    "\n",
    "- Conversely, the longest flight duration in the dataset extends to 49.83 hours, implying extended international or long-distance flights.\n",
    "\n",
    "**Initial Observations :Days Before Booking:**\n",
    "- On average, flight bookings occur approximately 26 days before the scheduled departure date, indicating a general trend of advanced planning.\n",
    "\n",
    "- The dataset records the earliest booking made just 1 day before departure, indicating last-minute reservations, potentially due to urgent travel needs.\n",
    "\n",
    "- In contrast, the dataset also includes instances where bookings were made as early as 49 days ahead of the departure date, reflecting meticulous planning or early reservations.\n",
    "\n",
    "**Initial Observations :Price :**\n",
    "- The dataset showcases an average flight price of around 20889.66 currency units, providing an overview of typical pricing for the flights.\n",
    "\n",
    "- The lowest recorded price in the dataset stands at 1105 currency units, highlighting budget-friendly flight options.\n",
    "\n",
    "- Conversely, the highest recorded price reaches 123071 currency units, pointing towards premium or long-haul flight options.\n",
    "\n",
    "**Quartiles:**\n",
    "\n",
    "- The 25th percentile of 'duration' stands at 6.83 hours, indicating that 25% of the flights in the dataset have a duration of 6.83 hours or less, representing relatively shorter flights.\n",
    "\n",
    "- The 50th percentile, often referred to as the median, is 11.25 hours, signifying that half of the flights have a duration of 11.25 hours or less, portraying the typical duration.\n",
    "\n",
    "- The 75th percentile of 'duration' is 16.17 hours, suggesting that 75% of the flights have a duration of 16.17 hours or less, with a subset involving longer journeys.\n"
   ]
  },
  {
   "cell_type": "code",
   "execution_count": null,
   "metadata": {},
   "outputs": [],
   "source": [
    "print(\"Summary Statistics of Price:\")\n",
    "print(final['price'].describe())\n",
    "print()\n"
   ]
  },
  {
   "cell_type": "markdown",
   "metadata": {},
   "source": [
    "However, since the data set has two highly correlated values Price, Class, lets calculate the statistics class wise"
   ]
  },
  {
   "cell_type": "code",
   "execution_count": null,
   "metadata": {},
   "outputs": [],
   "source": [
    "final_corr=final\n",
    "final_corr['class'] = final_corr['class'].replace({'Economy': 0, 'Business': 1})\n",
    "\n",
    "final[[\"class\",\"price\"]].corr()\n"
   ]
  },
  {
   "cell_type": "code",
   "execution_count": null,
   "metadata": {},
   "outputs": [],
   "source": [
    "# Calculate summary statistics for the \"price\" column class-wise\n",
    "summary_stats = final.groupby(\"class\")[\"price\"].describe()\n",
    "\n",
    "# Display the summary statistics\n",
    "print(summary_stats)\n"
   ]
  },
  {
   "cell_type": "code",
   "execution_count": null,
   "metadata": {},
   "outputs": [],
   "source": [
    "import matplotlib.pyplot as plt\n",
    "import seaborn as sns\n",
    "\n",
    "custom_palette = sns.color_palette(\"Set2\")\n",
    "plt.figure(figsize=(12, 6))\n",
    "sns.histplot(final['price'], bins=30, kde=True, color='red')  # Change the color to red\n",
    "plt.title('Distribution of Flight Prices', fontsize=16)\n",
    "plt.xlabel('Price of Ticket in Rs.', fontsize=12)\n",
    "plt.ylabel('Count of Tickets', fontsize=12)\n",
    "plt.xticks(fontsize=10)\n",
    "plt.yticks(fontsize=10)\n",
    "plt.grid(axis='y', linestyle='--', alpha=0.7)\n",
    "sns.despine()\n",
    "plt.show()\n"
   ]
  },
  {
   "cell_type": "code",
   "execution_count": null,
   "metadata": {},
   "outputs": [],
   "source": [
    "plt.figure(figsize=(10, 6))\n",
    "sns.histplot(final[final['class'] == \"Economy\"], x='price', bins=30, kde=True, color='red')\n",
    "plt.title('Distribution of Flight Prices for Economy Class')\n",
    "plt.xlabel('Price')\n",
    "plt.ylabel('Count')\n",
    "plt.show()\n"
   ]
  },
  {
   "cell_type": "code",
   "execution_count": null,
   "metadata": {},
   "outputs": [],
   "source": [
    "plt.figure(figsize=(10, 6))\n",
    "sns.histplot(final[final['class'] == \"Business\"], x='price', bins=30, kde=True, color='red')\n",
    "plt.title('Distribution of Flight Prices for Business Class')\n",
    "plt.xlabel('Price')\n",
    "plt.ylabel('Frequency')\n",
    "plt.show()\n"
   ]
  },
  {
   "cell_type": "code",
   "execution_count": null,
   "metadata": {},
   "outputs": [],
   "source": []
  },
  {
   "cell_type": "code",
   "execution_count": null,
   "metadata": {},
   "outputs": [],
   "source": [
    "custom_palette = sns.color_palette(\"Set2\")\n",
    "plt.figure(figsize=(8, 6))\n",
    "sns.boxplot(data=final, x=\"price\", color=custom_palette[2], fliersize=5, linewidth=2, width=0.4)\n",
    "plt.title('Box Plot of Price Distribution', fontsize=16)\n",
    "plt.xlabel('Price of Ticket in Rs.', fontsize=12)\n",
    "plt.xticks(fontsize=12)\n",
    "sns.despine()\n",
    "plt.show()\n"
   ]
  },
  {
   "cell_type": "code",
   "execution_count": null,
   "metadata": {},
   "outputs": [],
   "source": [
    "import plotly.express as px\n",
    "\n",
    "fig = px.box(final, x=\"class\", y=\"price\", color=\"class\",\n",
    "             title='Box Plot of Price Distribution by Class',\n",
    "             labels={\"class\": \"Class\", \"price\": \"Price of Ticket in Rs.\"},\n",
    "             width=800, height=800)\n",
    "\n",
    "# fig.update_traces(marker=dict(size=5, line=dict(width=2)),\n",
    "#                   boxmean=True)\n",
    "\n",
    "fig.show()\n"
   ]
  },
  {
   "cell_type": "code",
   "execution_count": null,
   "metadata": {},
   "outputs": [],
   "source": [
    "px.box(final, x=\"airline\", y=\"price\", color=\"airline\").update_layout(height=1800)"
   ]
  },
  {
   "cell_type": "code",
   "execution_count": null,
   "metadata": {},
   "outputs": [],
   "source": [
    "\n",
    "plt.figure(figsize=(7,3))\n",
    "px.box(final,y=\"price\",x=\"source_city\",color=\"source_city\").update_layout(\n",
    "    xaxis_title=\"Source City\", yaxis_title=\"Price of ticket\"\n",
    ")"
   ]
  },
  {
   "cell_type": "code",
   "execution_count": null,
   "metadata": {},
   "outputs": [],
   "source": [
    "\n",
    "plt.figure(figsize=(7,3))\n",
    "px.box(final,y=\"price\",x=\"destination_city\",color=\"destination_city\").update_layout(\n",
    "    xaxis_title=\"Destination City\", yaxis_title=\"Price of ticket\"\n",
    ")"
   ]
  },
  {
   "cell_type": "code",
   "execution_count": null,
   "metadata": {},
   "outputs": [],
   "source": [
    "import plotly.express as px\n",
    "\n",
    "# Box plot for Departure Time\n",
    "fig_departure = px.box(final, y=\"price\", x=\"departure_time\", color=\"departure_time\")\n",
    "fig_departure.update_layout(\n",
    "    xaxis_title=\"Departure Time\",\n",
    "    yaxis_title=\"Price of Ticket\",\n",
    "    title=\"Box Plot of Price Distribution by Departure Time\",\n",
    "    width=700,\n",
    "    height=350,\n",
    ")\n"
   ]
  },
  {
   "cell_type": "code",
   "execution_count": null,
   "metadata": {},
   "outputs": [],
   "source": [
    "import plotly.express as px\n",
    "\n",
    "# Box plot for Business Class - Departure Time\n",
    "fig_business_departure = px.box(final[final['class'] == 'Business'], y=\"price\", x=\"departure_time\", color=\"departure_time\")\n",
    "fig_business_departure.update_layout(\n",
    "    xaxis_title=\"Departure Time\",\n",
    "    yaxis_title=\"Price of Ticket\",\n",
    "    title=\"Box Plot of Price Distribution for Business Class by Departure Time\",\n",
    "    width=700,\n",
    "    height=350,\n",
    ")\n",
    "\n",
    "# Box plot for Business Class - Arrival Time\n",
    "fig_business_arrival = px.box(final[final['class'] == 'Business'], y=\"price\", x=\"arrival_time\", color=\"arrival_time\")\n",
    "fig_business_arrival.update_layout(\n",
    "    xaxis_title=\"Arrival Time\",\n",
    "    yaxis_title=\"Price of Ticket\",\n",
    "    title=\"Box Plot of Price Distribution for Business Class by Arrival Time\",\n",
    "    width=700,\n",
    "    height=350,\n",
    ")\n",
    "\n",
    "# Box plot for Economy Class - Departure Time\n",
    "fig_economy_departure = px.box(final[final['class'] == 'Economy'], y=\"price\", x=\"departure_time\", color=\"departure_time\")\n",
    "fig_economy_departure.update_layout(\n",
    "    xaxis_title=\"Departure Time\",\n",
    "    yaxis_title=\"Price of Ticket\",\n",
    "    title=\"Box Plot of Price Distribution for Economy Class by Departure Time\",\n",
    "    width=700,\n",
    "    height=350,\n",
    ")\n",
    "\n",
    "# Box plot for Economy Class - Arrival Time\n",
    "fig_economy_arrival = px.box(final[final['class'] == 'Economy'], y=\"price\", x=\"arrival_time\", color=\"arrival_time\")\n",
    "fig_economy_arrival.update_layout(\n",
    "    xaxis_title=\"Arrival Time\",\n",
    "    yaxis_title=\"Price of Ticket\",\n",
    "    title=\"Box Plot of Price Distribution for Economy Class by Arrival Time\",\n",
    "    width=700,\n",
    "    height=350,\n",
    ")\n",
    "\n",
    "fig_business_departure.show()\n",
    "fig_business_arrival.show()\n",
    "fig_economy_departure.show()\n",
    "fig_economy_arrival.show()\n"
   ]
  },
  {
   "cell_type": "code",
   "execution_count": null,
   "metadata": {},
   "outputs": [],
   "source": [
    "most_common_airline = df['airline'].mode().values[0]\n",
    "\n",
    "plt.figure(figsize=(10, 6))\n",
    "sns.set(style=\"whitegrid\")\n",
    "\n",
    "for airline in df['airline'].unique():\n",
    "    color = 'blue' if airline == most_common_airline else 'lightgray'\n",
    "    sns.histplot(data=df[df['airline'] == airline], x=\"airline\", binwidth=20, color=color, edgecolor='black')\n",
    "\n",
    "plt.title('Histogram of Airlines', fontsize=16)\n",
    "plt.xlabel('Airline', fontsize=12)\n",
    "plt.ylabel('Count', fontsize=12)\n",
    "plt.xticks(rotation=45, fontsize=10)\n",
    "\n",
    "legend_labels = ['Most Common Airline', 'Other Airlines']\n",
    "legend_colors = ['skyblue', 'lightgray']\n",
    "legend_patches = [plt.Rectangle((0, 0), 1, 1, color=color) for color in legend_colors]\n",
    "plt.legend(legend_patches, legend_labels, title='Legend', fontsize=10)\n",
    "\n",
    "plt.grid(axis='y', linestyle='--', alpha=0.7)\n",
    "sns.despine()\n",
    "\n",
    "plt.show()\n"
   ]
  },
  {
   "cell_type": "code",
   "execution_count": null,
   "metadata": {},
   "outputs": [],
   "source": [
    "plt.figure(figsize=(8, 8))\n",
    "plt.title('Airline Distribution')\n",
    "\n",
    "airline_counts = final['airline'].value_counts()\n",
    "\n",
    "plt.pie(airline_counts, labels=airline_counts.index, autopct='%1.1f%%', startangle=160)\n",
    "\n",
    "plt.show()\n"
   ]
  },
  {
   "cell_type": "code",
   "execution_count": null,
   "metadata": {},
   "outputs": [],
   "source": [
    "plt.figure(figsize=(12, 8))\n",
    "sns.countplot(x='airline', data=final, palette='cubehelix')\n",
    "plt.title('Flight Counts by Airline')\n",
    "plt.xlabel('Airline')\n",
    "plt.ylabel('Count')\n",
    "plt.xticks(rotation=45)\n",
    "plt.show()\n"
   ]
  },
  {
   "cell_type": "code",
   "execution_count": null,
   "metadata": {},
   "outputs": [],
   "source": [
    "plt.figure(figsize=(15,3))\n",
    "sns.lineplot(data=df,x='days_left', y='price',color=\"red\")\n",
    "plt.xlabel(\"Days left before booking\")\n",
    "plt.ylabel(\"Price of ticket\")\n",
    "\n",
    "plt.grid(True)"
   ]
  },
  {
   "cell_type": "code",
   "execution_count": null,
   "metadata": {},
   "outputs": [],
   "source": [
    "plt.figure(figsize=(15,3))\n",
    "sns.lineplot(data=final,x='days_left', y='price',hue=\"airline\")"
   ]
  },
  {
   "cell_type": "code",
   "execution_count": null,
   "metadata": {},
   "outputs": [],
   "source": [
    "contingency_table = pd.crosstab(final['airline'], final['class'])\n",
    "\n",
    "plt.figure(figsize=(10, 6))\n",
    "sns.heatmap(contingency_table, annot=True, cmap='Blues')\n",
    "plt.title('Contingency Table: Airline vs. Class')\n",
    "plt.xlabel('Class')\n",
    "plt.ylabel('Airline')\n",
    "plt.xticks(rotation=45)\n",
    "plt.show()"
   ]
  },
  {
   "cell_type": "code",
   "execution_count": null,
   "metadata": {},
   "outputs": [],
   "source": [
    "import sweetviz\n",
    "report=sweetviz.analyze(final)"
   ]
  },
  {
   "cell_type": "code",
   "execution_count": null,
   "metadata": {},
   "outputs": [],
   "source": [
    "report.show_html()"
   ]
  },
  {
   "cell_type": "code",
   "execution_count": null,
   "metadata": {},
   "outputs": [],
   "source": [
    "rep2=sweetviz.analyze([final,\"Flight Price Data\"],target_feat=\"price\")"
   ]
  },
  {
   "cell_type": "code",
   "execution_count": null,
   "metadata": {},
   "outputs": [],
   "source": [
    "rep2.show_html()"
   ]
  },
  {
   "cell_type": "code",
   "execution_count": null,
   "metadata": {},
   "outputs": [],
   "source": []
  },
  {
   "cell_type": "code",
   "execution_count": null,
   "metadata": {},
   "outputs": [],
   "source": []
  },
  {
   "cell_type": "code",
   "execution_count": null,
   "metadata": {},
   "outputs": [],
   "source": []
  },
  {
   "cell_type": "code",
   "execution_count": null,
   "metadata": {},
   "outputs": [],
   "source": []
  },
  {
   "cell_type": "code",
   "execution_count": null,
   "metadata": {},
   "outputs": [],
   "source": []
  },
  {
   "cell_type": "code",
   "execution_count": null,
   "metadata": {},
   "outputs": [],
   "source": []
  },
  {
   "cell_type": "code",
   "execution_count": null,
   "metadata": {},
   "outputs": [],
   "source": []
  },
  {
   "cell_type": "code",
   "execution_count": null,
   "metadata": {},
   "outputs": [],
   "source": []
  },
  {
   "cell_type": "code",
   "execution_count": null,
   "metadata": {},
   "outputs": [],
   "source": []
  },
  {
   "cell_type": "code",
   "execution_count": null,
   "metadata": {},
   "outputs": [],
   "source": []
  },
  {
   "cell_type": "code",
   "execution_count": null,
   "metadata": {},
   "outputs": [],
   "source": []
  },
  {
   "cell_type": "code",
   "execution_count": null,
   "metadata": {},
   "outputs": [],
   "source": []
  },
  {
   "cell_type": "code",
   "execution_count": null,
   "metadata": {},
   "outputs": [],
   "source": []
  }
 ],
 "metadata": {
  "kernelspec": {
   "display_name": "Python 3",
   "language": "python",
   "name": "python3"
  },
  "language_info": {
   "codemirror_mode": {
    "name": "ipython",
    "version": 3
   },
   "file_extension": ".py",
   "mimetype": "text/x-python",
   "name": "python",
   "nbconvert_exporter": "python",
   "pygments_lexer": "ipython3",
   "version": "3.11.4"
  },
  "orig_nbformat": 4
 },
 "nbformat": 4,
 "nbformat_minor": 2
}
